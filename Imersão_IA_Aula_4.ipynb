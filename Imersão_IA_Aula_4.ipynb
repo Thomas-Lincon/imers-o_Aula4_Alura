{
  "nbformat": 4,
  "nbformat_minor": 0,
  "metadata": {
    "colab": {
      "provenance": [],
      "authorship_tag": "ABX9TyOrRNnBi069fF86aHgQU1yY",
      "include_colab_link": true
    },
    "kernelspec": {
      "name": "python3",
      "display_name": "Python 3"
    },
    "language_info": {
      "name": "python"
    }
  },
  "cells": [
    {
      "cell_type": "markdown",
      "metadata": {
        "id": "view-in-github",
        "colab_type": "text"
      },
      "source": [
        "<a href=\"https://colab.research.google.com/github/Thomas-Lincon/imersao_Aula4_Alura/blob/main/Imers%C3%A3o_IA_Aula_4.ipynb\" target=\"_parent\"><img src=\"https://colab.research.google.com/assets/colab-badge.svg\" alt=\"Open In Colab\"/></a>"
      ]
    },
    {
      "cell_type": "markdown",
      "source": [
        "Instalando o SDK do Google"
      ],
      "metadata": {
        "id": "M_FUMq_Zy09h"
      }
    },
    {
      "cell_type": "code",
      "execution_count": 1,
      "metadata": {
        "id": "ih31pLvByym4"
      },
      "outputs": [],
      "source": [
        "!pip install -q -U google-generativeai"
      ]
    },
    {
      "cell_type": "code",
      "source": [
        "# Import the Python SDK\n",
        "import google.generativeai as genai\n",
        "\n",
        "\n",
        "GOOGLE_API_KEY='Utilize sua API Key aqui'\n",
        "genai.configure(api_key=GOOGLE_API_KEY)"
      ],
      "metadata": {
        "id": "u-ZpEGdey_MJ"
      },
      "execution_count": 3,
      "outputs": []
    },
    {
      "cell_type": "markdown",
      "source": [
        "Listar os modelos disponíveis."
      ],
      "metadata": {
        "id": "XWnGkIJjzGf-"
      }
    },
    {
      "cell_type": "code",
      "source": [
        "for m in genai.list_models():\n",
        "  if 'generateContent'in m.supported_generation_methods:\n",
        "    print(m.name)"
      ],
      "metadata": {
        "colab": {
          "base_uri": "https://localhost:8080/",
          "height": 139
        },
        "id": "UNmDy2KwzE7c",
        "outputId": "fed50056-d3a7-4992-990b-6a085f426b6b"
      },
      "execution_count": 5,
      "outputs": [
        {
          "output_type": "stream",
          "name": "stdout",
          "text": [
            "models/gemini-1.0-pro\n",
            "models/gemini-1.0-pro-001\n",
            "models/gemini-1.0-pro-latest\n",
            "models/gemini-1.0-pro-vision-latest\n",
            "models/gemini-1.5-pro-latest\n",
            "models/gemini-pro\n",
            "models/gemini-pro-vision\n"
          ]
        }
      ]
    },
    {
      "cell_type": "markdown",
      "source": [
        "Parametros do Gemini"
      ],
      "metadata": {
        "id": "hFk1QDWJ2mqA"
      }
    },
    {
      "cell_type": "code",
      "source": [
        "generation_config = {\n",
        "  \"candidate_count\": 1,\n",
        "  \"temperature\": 0.5,\n",
        "}"
      ],
      "metadata": {
        "id": "5Gs52-Us1Q0S"
      },
      "execution_count": 19,
      "outputs": []
    },
    {
      "cell_type": "markdown",
      "source": [
        "Parametros de segurança do Gemini"
      ],
      "metadata": {
        "id": "OFsHQynz2rEH"
      }
    },
    {
      "cell_type": "code",
      "source": [
        "safety_settings={\n",
        "    'HATE': 'BLOCK_NONE',\n",
        "    'HARASSMENT': 'BLOCK_NONE',\n",
        "    'SEXUAL' : 'BLOCK_NONE',\n",
        "    'DANGEROUS' : 'BLOCK_NONE'\n",
        "    }"
      ],
      "metadata": {
        "id": "aUp5bcNy1vNG"
      },
      "execution_count": 20,
      "outputs": []
    },
    {
      "cell_type": "markdown",
      "source": [
        "Selecionando o modelo que iremos usar"
      ],
      "metadata": {
        "id": "YvEJEG1a4LUi"
      }
    },
    {
      "cell_type": "code",
      "source": [
        "model = genai.GenerativeModel(model_name='gemini-1.0-pro',\n",
        "                                  generation_config=generation_config,\n",
        "                                  safety_settings=safety_settings,)"
      ],
      "metadata": {
        "id": "xPUJRSPT2DE3"
      },
      "execution_count": 21,
      "outputs": []
    },
    {
      "cell_type": "code",
      "source": [
        "response = model.generate_content(\"Que empresa criou o modelo de IA Gemini?\")\n",
        "response.text"
      ],
      "metadata": {
        "colab": {
          "base_uri": "https://localhost:8080/",
          "height": 35
        },
        "id": "jXR38Ow43ImC",
        "outputId": "b1deb814-15bb-49e4-94c1-2c6a87c10199"
      },
      "execution_count": 25,
      "outputs": [
        {
          "output_type": "execute_result",
          "data": {
            "text/plain": [
              "'Google'"
            ],
            "application/vnd.google.colaboratory.intrinsic+json": {
              "type": "string"
            }
          },
          "metadata": {},
          "execution_count": 25
        }
      ]
    },
    {
      "cell_type": "code",
      "source": [
        "chat = model.start_chat(history=[])\n",
        "\n",
        "prompt = input('Esperando prompt: ')\n",
        "\n",
        "while prompt != \"fim\":\n",
        "  response = chat.send_message(prompt)\n",
        "  print(\"Resposta:\", response.text, '\\n\\n')\n",
        "  prompt = input('Esperando prompt: ')"
      ],
      "metadata": {
        "colab": {
          "base_uri": "https://localhost:8080/",
          "height": 1000
        },
        "id": "w_gKgZZt4cCO",
        "outputId": "4f4668e9-fa80-4740-bada-b3934a5717f4"
      },
      "execution_count": 31,
      "outputs": [
        {
          "name": "stdout",
          "output_type": "stream",
          "text": [
            "Esperando prompt: Qual o clube com mais titulos importatnes do estado do Paraná? \n",
            "Resposta: Atlético Paranaense \n",
            "\n",
            "\n",
            "Esperando prompt: Quais são os titulos?\n",
            "Resposta: **Títulos nacionais**\n",
            "\n",
            "* Campeonato Brasileiro Série A: 2 (2001, 2018)\n",
            "* Copa do Brasil: 2 (1992, 2019)\n",
            "* Supercopa do Brasil: 1 (2019)\n",
            "\n",
            "**Títulos internacionais**\n",
            "\n",
            "* Copa Sul-Americana: 2 (2018, 2021)\n",
            "* Copa Conmebol: 1 (1992)\n",
            "\n",
            "**Títulos estaduais**\n",
            "\n",
            "* Campeonato Paranaense: 26 (1925, 1929, 1930, 1934, 1936, 1940, 1943, 1945, 1949, 1958, 1970, 1982, 1983, 1985, 1988, 1990, 1998, 2000, 2001, 2002, 2005, 2009, 2016, 2018, 2020)\n",
            "\n",
            "**Títulos regionais**\n",
            "\n",
            "* Torneio Sul-Brasileiro: 4 (1968, 1970, 1991, 1992) \n",
            "\n",
            "\n",
            "Esperando prompt: não esta correto, tente novamente\n",
            "Resposta: **Títulos nacionais**\n",
            "\n",
            "* Campeonato Brasileiro Série A: 2 (2001, 2018)\n",
            "* Copa do Brasil: 2 (1992, 2019)\n",
            "* Supercopa do Brasil: 1 (2019)\n",
            "\n",
            "**Títulos internacionais**\n",
            "\n",
            "* Copa Sul-Americana: 2 (2018, 2021)\n",
            "* Copa Conmebol: 1 (1992)\n",
            "* J. League YBC Levain Cup/CONMEBOL Sudamericana Championship Final: 1 (2019)\n",
            "\n",
            "**Títulos estaduais**\n",
            "\n",
            "* Campeonato Paranaense: 26 (1925, 1929, 1930, 1934, 1936, 1940, 1943, 1945, 1949, 1958, 1970, 1982, 1983, 1985, 1988, 1990, 1998, 2000, 2001, 2002, 2005, 2009, 2016, 2018, 2020)\n",
            "\n",
            "**Títulos regionais**\n",
            "\n",
            "* Torneio Sul-Brasileiro: 4 (1968, 1970, 1991, 1992)\n",
            "\n",
            "**Títulos de categorias de base**\n",
            "\n",
            "* Campeonato Brasileiro Sub-20: 1 (2015)\n",
            "* Campeonato Brasileiro Sub-17: 2 (2015, 2018)\n",
            "* Copa do Brasil Sub-20: 1 (2018)\n",
            "\n",
            "**Outros títulos**\n",
            "\n",
            "* Taça Cidade de Curitiba: 1 (1973)\n",
            "* Troféu Bicentenário da Imigração Alemã: 1 (1990)\n",
            "\n",
            "**Total de títulos oficiais:** 65 \n",
            "\n",
            "\n",
            "Esperando prompt: fim\n"
          ]
        }
      ]
    },
    {
      "cell_type": "code",
      "source": [
        "chat"
      ],
      "metadata": {
        "colab": {
          "base_uri": "https://localhost:8080/"
        },
        "id": "-RsLznKW5xJ0",
        "outputId": "d7f7709f-4172-4064-de40-2f67eb6897bd"
      },
      "execution_count": 32,
      "outputs": [
        {
          "output_type": "execute_result",
          "data": {
            "text/plain": [
              "ChatSession(\n",
              "    model=genai.GenerativeModel(\n",
              "        model_name='models/gemini-1.0-pro',\n",
              "        generation_config={'candidate_count': 1, 'temperature': 0.5},\n",
              "        safety_settings={<HarmCategory.HARM_CATEGORY_HATE_SPEECH: 8>: <HarmBlockThreshold.BLOCK_NONE: 4>, <HarmCategory.HARM_CATEGORY_HARASSMENT: 7>: <HarmBlockThreshold.BLOCK_NONE: 4>, <HarmCategory.HARM_CATEGORY_SEXUALLY_EXPLICIT: 9>: <HarmBlockThreshold.BLOCK_NONE: 4>, <HarmCategory.HARM_CATEGORY_DANGEROUS_CONTENT: 10>: <HarmBlockThreshold.BLOCK_NONE: 4>},\n",
              "        tools=None,\n",
              "        system_instruction=None,\n",
              "    ),\n",
              "    history=[glm.Content({'parts': [{'text': 'Qual o clube...o do Paraná? '}], 'role': 'user'}), glm.Content({'parts': [{'text': 'Atlético Paranaense'}], 'role': 'model'}), glm.Content({'parts': [{'text': 'Quais são os titulos?'}], 'role': 'user'}), glm.Content({'parts': [{'text': '**Títulos na..., 1991, 1992)'}], 'role': 'model'}), glm.Content({'parts': [{'text': 'não esta cor...nte novamente'}], 'role': 'user'}), glm.Content({'parts': [{'text': '**Títulos na...ficiais:** 65'}], 'role': 'model'})]\n",
              ")"
            ]
          },
          "metadata": {},
          "execution_count": 32
        }
      ]
    },
    {
      "cell_type": "code",
      "source": [
        "chat.history"
      ],
      "metadata": {
        "colab": {
          "base_uri": "https://localhost:8080/"
        },
        "id": "ElI9nhgI7N9E",
        "outputId": "2ad0023d-68e8-4ff2-a00d-a83e725b5769"
      },
      "execution_count": 33,
      "outputs": [
        {
          "output_type": "execute_result",
          "data": {
            "text/plain": [
              "[parts {\n",
              "   text: \"Qual o clube com mais titulos importatnes do estado do Paran\\303\\241? \"\n",
              " }\n",
              " role: \"user\",\n",
              " parts {\n",
              "   text: \"Atl\\303\\251tico Paranaense\"\n",
              " }\n",
              " role: \"model\",\n",
              " parts {\n",
              "   text: \"Quais s\\303\\243o os titulos?\"\n",
              " }\n",
              " role: \"user\",\n",
              " parts {\n",
              "   text: \"**T\\303\\255tulos nacionais**\\n\\n* Campeonato Brasileiro S\\303\\251rie A: 2 (2001, 2018)\\n* Copa do Brasil: 2 (1992, 2019)\\n* Supercopa do Brasil: 1 (2019)\\n\\n**T\\303\\255tulos internacionais**\\n\\n* Copa Sul-Americana: 2 (2018, 2021)\\n* Copa Conmebol: 1 (1992)\\n\\n**T\\303\\255tulos estaduais**\\n\\n* Campeonato Paranaense: 26 (1925, 1929, 1930, 1934, 1936, 1940, 1943, 1945, 1949, 1958, 1970, 1982, 1983, 1985, 1988, 1990, 1998, 2000, 2001, 2002, 2005, 2009, 2016, 2018, 2020)\\n\\n**T\\303\\255tulos regionais**\\n\\n* Torneio Sul-Brasileiro: 4 (1968, 1970, 1991, 1992)\"\n",
              " }\n",
              " role: \"model\",\n",
              " parts {\n",
              "   text: \"n\\303\\243o esta correto, tente novamente\"\n",
              " }\n",
              " role: \"user\",\n",
              " parts {\n",
              "   text: \"**T\\303\\255tulos nacionais**\\n\\n* Campeonato Brasileiro S\\303\\251rie A: 2 (2001, 2018)\\n* Copa do Brasil: 2 (1992, 2019)\\n* Supercopa do Brasil: 1 (2019)\\n\\n**T\\303\\255tulos internacionais**\\n\\n* Copa Sul-Americana: 2 (2018, 2021)\\n* Copa Conmebol: 1 (1992)\\n* J. League YBC Levain Cup/CONMEBOL Sudamericana Championship Final: 1 (2019)\\n\\n**T\\303\\255tulos estaduais**\\n\\n* Campeonato Paranaense: 26 (1925, 1929, 1930, 1934, 1936, 1940, 1943, 1945, 1949, 1958, 1970, 1982, 1983, 1985, 1988, 1990, 1998, 2000, 2001, 2002, 2005, 2009, 2016, 2018, 2020)\\n\\n**T\\303\\255tulos regionais**\\n\\n* Torneio Sul-Brasileiro: 4 (1968, 1970, 1991, 1992)\\n\\n**T\\303\\255tulos de categorias de base**\\n\\n* Campeonato Brasileiro Sub-20: 1 (2015)\\n* Campeonato Brasileiro Sub-17: 2 (2015, 2018)\\n* Copa do Brasil Sub-20: 1 (2018)\\n\\n**Outros t\\303\\255tulos**\\n\\n* Ta\\303\\247a Cidade de Curitiba: 1 (1973)\\n* Trof\\303\\251u Bicenten\\303\\241rio da Imigra\\303\\247\\303\\243o Alem\\303\\243: 1 (1990)\\n\\n**Total de t\\303\\255tulos oficiais:** 65\"\n",
              " }\n",
              " role: \"model\"]"
            ]
          },
          "metadata": {},
          "execution_count": 33
        }
      ]
    },
    {
      "cell_type": "code",
      "source": [
        "#Melhorando a visualização\n",
        "#Código disponível em https://ai.google.dev/tutorials/python_quickstart#import_packages\n",
        "import textwrap\n",
        "from IPython.display import display\n",
        "from IPython.display import Markdown\n",
        "\n",
        "def to_markdown(text):\n",
        "  text = text.replace('•', '  *')\n",
        "  return Markdown(textwrap.indent(text, '> ', predicate=lambda _: True))\n",
        "\n",
        "#Imprimindo o histórico\n",
        "for message in chat.history:\n",
        "  display(to_markdown(f'**{message.role}**: {message.parts[0].text}'))\n",
        "  print('-------------------------------------------')"
      ],
      "metadata": {
        "colab": {
          "base_uri": "https://localhost:8080/",
          "height": 1000
        },
        "id": "Hp0uiTnf7YeK",
        "outputId": "0877fc7d-d75d-4471-df0a-f774b4b95c0a"
      },
      "execution_count": 34,
      "outputs": [
        {
          "output_type": "display_data",
          "data": {
            "text/plain": [
              "<IPython.core.display.Markdown object>"
            ],
            "text/markdown": "> **user**: Qual o clube com mais titulos importatnes do estado do Paraná? "
          },
          "metadata": {}
        },
        {
          "output_type": "stream",
          "name": "stdout",
          "text": [
            "-------------------------------------------\n"
          ]
        },
        {
          "output_type": "display_data",
          "data": {
            "text/plain": [
              "<IPython.core.display.Markdown object>"
            ],
            "text/markdown": "> **model**: Atlético Paranaense"
          },
          "metadata": {}
        },
        {
          "output_type": "stream",
          "name": "stdout",
          "text": [
            "-------------------------------------------\n"
          ]
        },
        {
          "output_type": "display_data",
          "data": {
            "text/plain": [
              "<IPython.core.display.Markdown object>"
            ],
            "text/markdown": "> **user**: Quais são os titulos?"
          },
          "metadata": {}
        },
        {
          "output_type": "stream",
          "name": "stdout",
          "text": [
            "-------------------------------------------\n"
          ]
        },
        {
          "output_type": "display_data",
          "data": {
            "text/plain": [
              "<IPython.core.display.Markdown object>"
            ],
            "text/markdown": "> **model**: **Títulos nacionais**\n> \n> * Campeonato Brasileiro Série A: 2 (2001, 2018)\n> * Copa do Brasil: 2 (1992, 2019)\n> * Supercopa do Brasil: 1 (2019)\n> \n> **Títulos internacionais**\n> \n> * Copa Sul-Americana: 2 (2018, 2021)\n> * Copa Conmebol: 1 (1992)\n> \n> **Títulos estaduais**\n> \n> * Campeonato Paranaense: 26 (1925, 1929, 1930, 1934, 1936, 1940, 1943, 1945, 1949, 1958, 1970, 1982, 1983, 1985, 1988, 1990, 1998, 2000, 2001, 2002, 2005, 2009, 2016, 2018, 2020)\n> \n> **Títulos regionais**\n> \n> * Torneio Sul-Brasileiro: 4 (1968, 1970, 1991, 1992)"
          },
          "metadata": {}
        },
        {
          "output_type": "stream",
          "name": "stdout",
          "text": [
            "-------------------------------------------\n"
          ]
        },
        {
          "output_type": "display_data",
          "data": {
            "text/plain": [
              "<IPython.core.display.Markdown object>"
            ],
            "text/markdown": "> **user**: não esta correto, tente novamente"
          },
          "metadata": {}
        },
        {
          "output_type": "stream",
          "name": "stdout",
          "text": [
            "-------------------------------------------\n"
          ]
        },
        {
          "output_type": "display_data",
          "data": {
            "text/plain": [
              "<IPython.core.display.Markdown object>"
            ],
            "text/markdown": "> **model**: **Títulos nacionais**\n> \n> * Campeonato Brasileiro Série A: 2 (2001, 2018)\n> * Copa do Brasil: 2 (1992, 2019)\n> * Supercopa do Brasil: 1 (2019)\n> \n> **Títulos internacionais**\n> \n> * Copa Sul-Americana: 2 (2018, 2021)\n> * Copa Conmebol: 1 (1992)\n> * J. League YBC Levain Cup/CONMEBOL Sudamericana Championship Final: 1 (2019)\n> \n> **Títulos estaduais**\n> \n> * Campeonato Paranaense: 26 (1925, 1929, 1930, 1934, 1936, 1940, 1943, 1945, 1949, 1958, 1970, 1982, 1983, 1985, 1988, 1990, 1998, 2000, 2001, 2002, 2005, 2009, 2016, 2018, 2020)\n> \n> **Títulos regionais**\n> \n> * Torneio Sul-Brasileiro: 4 (1968, 1970, 1991, 1992)\n> \n> **Títulos de categorias de base**\n> \n> * Campeonato Brasileiro Sub-20: 1 (2015)\n> * Campeonato Brasileiro Sub-17: 2 (2015, 2018)\n> * Copa do Brasil Sub-20: 1 (2018)\n> \n> **Outros títulos**\n> \n> * Taça Cidade de Curitiba: 1 (1973)\n> * Troféu Bicentenário da Imigração Alemã: 1 (1990)\n> \n> **Total de títulos oficiais:** 65"
          },
          "metadata": {}
        },
        {
          "output_type": "stream",
          "name": "stdout",
          "text": [
            "-------------------------------------------\n"
          ]
        }
      ]
    }
  ]
}