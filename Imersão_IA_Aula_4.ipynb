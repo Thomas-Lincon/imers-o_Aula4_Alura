{
  "nbformat": 4,
  "nbformat_minor": 0,
  "metadata": {
    "colab": {
      "provenance": [],
      "authorship_tag": "ABX9TyOioUAr3vXJ5wmICBV6qAyP",
      "include_colab_link": true
    },
    "kernelspec": {
      "name": "python3",
      "display_name": "Python 3"
    },
    "language_info": {
      "name": "python"
    }
  },
  "cells": [
    {
      "cell_type": "markdown",
      "metadata": {
        "id": "view-in-github",
        "colab_type": "text"
      },
      "source": [
        "<a href=\"https://colab.research.google.com/github/Thomas-Lincon/imersao_Aula4_Alura/blob/main/Imers%C3%A3o_IA_Aula_4.ipynb\" target=\"_parent\"><img src=\"https://colab.research.google.com/assets/colab-badge.svg\" alt=\"Open In Colab\"/></a>"
      ]
    },
    {
      "cell_type": "markdown",
      "source": [
        "Instalando o SDK do Google"
      ],
      "metadata": {
        "id": "M_FUMq_Zy09h"
      }
    },
    {
      "cell_type": "code",
      "execution_count": 41,
      "metadata": {
        "id": "ih31pLvByym4"
      },
      "outputs": [],
      "source": [
        "!pip install -q -U google-generativeai"
      ]
    },
    {
      "cell_type": "code",
      "source": [
        "import google.generativeai as genai\n",
        "from google.colab import userdata\n",
        "\n",
        "# Defina a variável secret_key com sua chave API\n",
        "secret_key = \"SECRET_KEY\"\n",
        "\n",
        "api_key = userdata.get(secret_key)\n",
        "genai.configure(api_key=api_key)"
      ],
      "metadata": {
        "id": "u-ZpEGdey_MJ"
      },
      "execution_count": 42,
      "outputs": []
    },
    {
      "cell_type": "markdown",
      "source": [
        "Listar os modelos disponíveis."
      ],
      "metadata": {
        "id": "XWnGkIJjzGf-"
      }
    },
    {
      "cell_type": "code",
      "source": [
        "for m in genai.list_models():\n",
        "  if 'generateContent'in m.supported_generation_methods:\n",
        "    print(m.name)"
      ],
      "metadata": {
        "colab": {
          "base_uri": "https://localhost:8080/",
          "height": 139
        },
        "id": "UNmDy2KwzE7c",
        "outputId": "76e778c5-36f5-4699-9fe2-069de8aed2e5"
      },
      "execution_count": 43,
      "outputs": [
        {
          "output_type": "stream",
          "name": "stdout",
          "text": [
            "models/gemini-1.0-pro\n",
            "models/gemini-1.0-pro-001\n",
            "models/gemini-1.0-pro-latest\n",
            "models/gemini-1.0-pro-vision-latest\n",
            "models/gemini-1.5-pro-latest\n",
            "models/gemini-pro\n",
            "models/gemini-pro-vision\n"
          ]
        }
      ]
    },
    {
      "cell_type": "markdown",
      "source": [
        "Parametros do Gemini"
      ],
      "metadata": {
        "id": "hFk1QDWJ2mqA"
      }
    },
    {
      "cell_type": "code",
      "source": [
        "generation_config = {\n",
        "  \"candidate_count\": 1,\n",
        "  \"temperature\": 0.5,\n",
        "}"
      ],
      "metadata": {
        "id": "5Gs52-Us1Q0S"
      },
      "execution_count": 44,
      "outputs": []
    },
    {
      "cell_type": "markdown",
      "source": [
        "Parametros de segurança do Gemini"
      ],
      "metadata": {
        "id": "OFsHQynz2rEH"
      }
    },
    {
      "cell_type": "code",
      "source": [
        "safety_settings={\n",
        "    'HATE': 'BLOCK_NONE',\n",
        "    'HARASSMENT': 'BLOCK_NONE',\n",
        "    'SEXUAL' : 'BLOCK_NONE',\n",
        "    'DANGEROUS' : 'BLOCK_NONE'\n",
        "    }"
      ],
      "metadata": {
        "id": "aUp5bcNy1vNG"
      },
      "execution_count": 45,
      "outputs": []
    },
    {
      "cell_type": "markdown",
      "source": [
        "Selecionando o modelo que iremos usar"
      ],
      "metadata": {
        "id": "YvEJEG1a4LUi"
      }
    },
    {
      "cell_type": "code",
      "source": [
        "model = genai.GenerativeModel(model_name='gemini-1.0-pro',\n",
        "                                  generation_config=generation_config,\n",
        "                                  safety_settings=safety_settings,)"
      ],
      "metadata": {
        "id": "xPUJRSPT2DE3"
      },
      "execution_count": 46,
      "outputs": []
    },
    {
      "cell_type": "code",
      "source": [
        "response = model.generate_content(\"Que empresa criou o modelo de IA Gemini?\")\n",
        "response.text"
      ],
      "metadata": {
        "colab": {
          "base_uri": "https://localhost:8080/",
          "height": 35
        },
        "id": "jXR38Ow43ImC",
        "outputId": "1a0483a9-3d2f-4155-9a8c-4dfa7a1b95de"
      },
      "execution_count": 47,
      "outputs": [
        {
          "output_type": "execute_result",
          "data": {
            "text/plain": [
              "'Google'"
            ],
            "application/vnd.google.colaboratory.intrinsic+json": {
              "type": "string"
            }
          },
          "metadata": {},
          "execution_count": 47
        }
      ]
    },
    {
      "cell_type": "code",
      "source": [
        "chat = model.start_chat(history=[])\n",
        "\n",
        "prompt = input('Esperando prompt: ')\n",
        "\n",
        "while prompt != \"fim\":\n",
        "  response = chat.send_message(prompt)\n",
        "  print(\"Resposta:\", response.text, '\\n\\n')\n",
        "  prompt = input('Esperando prompt: ')"
      ],
      "metadata": {
        "colab": {
          "base_uri": "https://localhost:8080/",
          "height": 766
        },
        "id": "w_gKgZZt4cCO",
        "outputId": "90369dcd-7504-4606-fc3c-a5bee845632e"
      },
      "execution_count": 48,
      "outputs": [
        {
          "name": "stdout",
          "output_type": "stream",
          "text": [
            "Esperando prompt: FIM\n",
            "Resposta: **FIM (Fast Inverse Matrix)**\n",
            "\n",
            "FIM is a technique used in numerical linear algebra to efficiently compute the inverse of a matrix. It is based on the Sherman-Morrison formula, which states that the inverse of a matrix can be updated efficiently when a single row or column is added or removed.\n",
            "\n",
            "**Algorithm:**\n",
            "\n",
            "The FIM algorithm works as follows:\n",
            "\n",
            "1. **Initialize:** Start with the original matrix **A**.\n",
            "2. **Partition:** Partition **A** into four submatrices: **A11**, **A12**, **A21**, and **A22**.\n",
            "3. **Compute inverse:** Compute the inverse of **A11**, denoted as **A11^-1**.\n",
            "4. **Update:** Update **A** using the Sherman-Morrison formula:\n",
            "\n",
            "```\n",
            "A = A11^-1 + A11^-1 * A12 * (A22 - A21 * A11^-1 * A12)^-1 * A21 * A11^-1\n",
            "```\n",
            "\n",
            "5. **Repeat:** Repeat steps 2-4 for each row and column of **A**.\n",
            "\n",
            "**Advantages:**\n",
            "\n",
            "* **Efficient:** FIM is more efficient than standard matrix inversion methods, especially for large sparse matrices.\n",
            "* **Incremental:** It allows for incremental updates to the inverse when changes are made to the matrix.\n",
            "* **Parallelizable:** The algorithm can be parallelized to improve performance on multi-core systems.\n",
            "\n",
            "**Applications:**\n",
            "\n",
            "FIM is used in various applications, including:\n",
            "\n",
            "* Solving linear systems of equations\n",
            "* Matrix decomposition\n",
            "* Optimization\n",
            "* Machine learning\n",
            "\n",
            "**Note:**\n",
            "\n",
            "* FIM is not suitable for all matrices. It works best for matrices that are sparse or have a banded structure.\n",
            "* The Sherman-Morrison formula can become unstable for matrices with large condition numbers. \n",
            "\n",
            "\n",
            "Esperando prompt: fim\n"
          ]
        }
      ]
    },
    {
      "cell_type": "code",
      "source": [
        "chat"
      ],
      "metadata": {
        "colab": {
          "base_uri": "https://localhost:8080/"
        },
        "id": "-RsLznKW5xJ0",
        "outputId": "4ac55677-38d4-4fa0-81be-cb4385cf87c3"
      },
      "execution_count": 49,
      "outputs": [
        {
          "output_type": "execute_result",
          "data": {
            "text/plain": [
              "ChatSession(\n",
              "    model=genai.GenerativeModel(\n",
              "        model_name='models/gemini-1.0-pro',\n",
              "        generation_config={'candidate_count': 1, 'temperature': 0.5},\n",
              "        safety_settings={<HarmCategory.HARM_CATEGORY_HATE_SPEECH: 8>: <HarmBlockThreshold.BLOCK_NONE: 4>, <HarmCategory.HARM_CATEGORY_HARASSMENT: 7>: <HarmBlockThreshold.BLOCK_NONE: 4>, <HarmCategory.HARM_CATEGORY_SEXUALLY_EXPLICIT: 9>: <HarmBlockThreshold.BLOCK_NONE: 4>, <HarmCategory.HARM_CATEGORY_DANGEROUS_CONTENT: 10>: <HarmBlockThreshold.BLOCK_NONE: 4>},\n",
              "        tools=None,\n",
              "        system_instruction=None,\n",
              "    ),\n",
              "    history=[glm.Content({'parts': [{'text': 'FIM'}], 'role': 'user'}), glm.Content({'parts': [{'text': '**FIM (Fast ...tion numbers.'}], 'role': 'model'})]\n",
              ")"
            ]
          },
          "metadata": {},
          "execution_count": 49
        }
      ]
    },
    {
      "cell_type": "code",
      "source": [
        "chat.history"
      ],
      "metadata": {
        "colab": {
          "base_uri": "https://localhost:8080/"
        },
        "id": "ElI9nhgI7N9E",
        "outputId": "6e4bbd7f-6298-44cc-88cc-b8a8578ad979"
      },
      "execution_count": 50,
      "outputs": [
        {
          "output_type": "execute_result",
          "data": {
            "text/plain": [
              "[parts {\n",
              "   text: \"FIM\"\n",
              " }\n",
              " role: \"user\",\n",
              " parts {\n",
              "   text: \"**FIM (Fast Inverse Matrix)**\\n\\nFIM is a technique used in numerical linear algebra to efficiently compute the inverse of a matrix. It is based on the Sherman-Morrison formula, which states that the inverse of a matrix can be updated efficiently when a single row or column is added or removed.\\n\\n**Algorithm:**\\n\\nThe FIM algorithm works as follows:\\n\\n1. **Initialize:** Start with the original matrix **A**.\\n2. **Partition:** Partition **A** into four submatrices: **A11**, **A12**, **A21**, and **A22**.\\n3. **Compute inverse:** Compute the inverse of **A11**, denoted as **A11^-1**.\\n4. **Update:** Update **A** using the Sherman-Morrison formula:\\n\\n```\\nA = A11^-1 + A11^-1 * A12 * (A22 - A21 * A11^-1 * A12)^-1 * A21 * A11^-1\\n```\\n\\n5. **Repeat:** Repeat steps 2-4 for each row and column of **A**.\\n\\n**Advantages:**\\n\\n* **Efficient:** FIM is more efficient than standard matrix inversion methods, especially for large sparse matrices.\\n* **Incremental:** It allows for incremental updates to the inverse when changes are made to the matrix.\\n* **Parallelizable:** The algorithm can be parallelized to improve performance on multi-core systems.\\n\\n**Applications:**\\n\\nFIM is used in various applications, including:\\n\\n* Solving linear systems of equations\\n* Matrix decomposition\\n* Optimization\\n* Machine learning\\n\\n**Note:**\\n\\n* FIM is not suitable for all matrices. It works best for matrices that are sparse or have a banded structure.\\n* The Sherman-Morrison formula can become unstable for matrices with large condition numbers.\"\n",
              " }\n",
              " role: \"model\"]"
            ]
          },
          "metadata": {},
          "execution_count": 50
        }
      ]
    },
    {
      "cell_type": "code",
      "source": [
        "#Melhorando a visualização\n",
        "#Código disponível em https://ai.google.dev/tutorials/python_quickstart#import_packages\n",
        "import textwrap\n",
        "from IPython.display import display\n",
        "from IPython.display import Markdown\n",
        "\n",
        "def to_markdown(text):\n",
        "  text = text.replace('•', '  *')\n",
        "  return Markdown(textwrap.indent(text, '> ', predicate=lambda _: True))\n",
        "\n",
        "#Imprimindo o histórico\n",
        "for message in chat.history:\n",
        "  display(to_markdown(f'**{message.role}**: {message.parts[0].text}'))\n",
        "  print('-------------------------------------------')"
      ],
      "metadata": {
        "colab": {
          "base_uri": "https://localhost:8080/",
          "height": 652
        },
        "id": "Hp0uiTnf7YeK",
        "outputId": "470069cc-2bc2-4e38-8ab2-8518351d314c"
      },
      "execution_count": 51,
      "outputs": [
        {
          "output_type": "display_data",
          "data": {
            "text/plain": [
              "<IPython.core.display.Markdown object>"
            ],
            "text/markdown": "> **user**: FIM"
          },
          "metadata": {}
        },
        {
          "output_type": "stream",
          "name": "stdout",
          "text": [
            "-------------------------------------------\n"
          ]
        },
        {
          "output_type": "display_data",
          "data": {
            "text/plain": [
              "<IPython.core.display.Markdown object>"
            ],
            "text/markdown": "> **model**: **FIM (Fast Inverse Matrix)**\n> \n> FIM is a technique used in numerical linear algebra to efficiently compute the inverse of a matrix. It is based on the Sherman-Morrison formula, which states that the inverse of a matrix can be updated efficiently when a single row or column is added or removed.\n> \n> **Algorithm:**\n> \n> The FIM algorithm works as follows:\n> \n> 1. **Initialize:** Start with the original matrix **A**.\n> 2. **Partition:** Partition **A** into four submatrices: **A11**, **A12**, **A21**, and **A22**.\n> 3. **Compute inverse:** Compute the inverse of **A11**, denoted as **A11^-1**.\n> 4. **Update:** Update **A** using the Sherman-Morrison formula:\n> \n> ```\n> A = A11^-1 + A11^-1 * A12 * (A22 - A21 * A11^-1 * A12)^-1 * A21 * A11^-1\n> ```\n> \n> 5. **Repeat:** Repeat steps 2-4 for each row and column of **A**.\n> \n> **Advantages:**\n> \n> * **Efficient:** FIM is more efficient than standard matrix inversion methods, especially for large sparse matrices.\n> * **Incremental:** It allows for incremental updates to the inverse when changes are made to the matrix.\n> * **Parallelizable:** The algorithm can be parallelized to improve performance on multi-core systems.\n> \n> **Applications:**\n> \n> FIM is used in various applications, including:\n> \n> * Solving linear systems of equations\n> * Matrix decomposition\n> * Optimization\n> * Machine learning\n> \n> **Note:**\n> \n> * FIM is not suitable for all matrices. It works best for matrices that are sparse or have a banded structure.\n> * The Sherman-Morrison formula can become unstable for matrices with large condition numbers."
          },
          "metadata": {}
        },
        {
          "output_type": "stream",
          "name": "stdout",
          "text": [
            "-------------------------------------------\n"
          ]
        }
      ]
    }
  ]
}